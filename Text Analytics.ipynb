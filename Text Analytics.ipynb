{
 "cells": [
  {
   "cell_type": "markdown",
   "id": "5d33881f-0684-4d01-b9c5-067a1731e568",
   "metadata": {},
   "source": [
    "## Azure Text Analytics"
   ]
  },
  {
   "cell_type": "code",
   "execution_count": 3,
   "id": "0ee0bfb3-1b35-4b5c-8b79-329b12959d52",
   "metadata": {},
   "outputs": [
    {
     "name": "stdout",
     "output_type": "stream",
     "text": [
      "{'VISION_ENDPOINT': 'https://visiontext.cognitiveservices.azure.com/', 'VISION_KEY': '2WAJSYXSWaXnqDT1F4bELeUxfkCh8gBuTGHAfTAgAkShMsz04MOvJQQJ99AKACYeBjFXJ3w3AAAAACOGaC49', 'AZURE_LANGUAGE_ENDPOINT': 'https://visiontext.openai.azure.com/', 'AZURE_LANGUAGE_KEY': '2WAJSYXSWaXnqDT1F4bELeUxfkCh8gBuTGHAfTAgAkShMsz04MOvJQQJ99AKACYeBjFXJ3w3AAAAACOGaC49'}\n"
     ]
    }
   ],
   "source": [
    "import json\n",
    "with open('credentials.json', 'r') as file:\n",
    "    data = json.load(file)\n",
    "    print(data)"
   ]
  },
  {
   "cell_type": "code",
   "execution_count": 4,
   "id": "4d134598-6bc8-41d6-9e63-25d1b925558f",
   "metadata": {},
   "outputs": [],
   "source": [
    "import os\n",
    "from azure.core.credentials import AzureKeyCredential\n",
    "from azure.ai.textanalytics import TextAnalyticsClient\n",
    "endpoint = data[\"AZURE_LANGUAGE_ENDPOINT\"]\n",
    "key = data[\"AZURE_LANGUAGE_KEY\"]\n",
    "\n",
    "text_analytics_client = TextAnalyticsClient(endpoint, AzureKeyCredential(key))"
   ]
  },
  {
   "cell_type": "code",
   "execution_count": 5,
   "id": "e2e02ed1-bb7f-437a-b5e9-e5c66de762e4",
   "metadata": {},
   "outputs": [],
   "source": [
    "documents = [\"I hated the movie. It was so slow!\", \"The movie made it into my top ten favorites. What a great movie!\"]"
   ]
  },
  {
   "cell_type": "code",
   "execution_count": 6,
   "id": "ac123403-3063-454f-988e-bb667c91a2f4",
   "metadata": {},
   "outputs": [],
   "source": [
    "response = text_analytics_client.analyze_sentiment(documents)\n",
    "successful_responses = [doc for doc in response if not doc.is_error]"
   ]
  },
  {
   "cell_type": "code",
   "execution_count": 7,
   "id": "45aa6fd3-7907-47ff-b6a1-aaf627a11a35",
   "metadata": {},
   "outputs": [
    {
     "data": {
      "text/plain": [
       "'I hated the movie. '"
      ]
     },
     "execution_count": 7,
     "metadata": {},
     "output_type": "execute_result"
    }
   ],
   "source": [
    "successful_responses[0].sentences[0].text"
   ]
  },
  {
   "cell_type": "code",
   "execution_count": 8,
   "id": "5210c582-a887-4157-97de-eb10a67dfe2c",
   "metadata": {},
   "outputs": [
    {
     "name": "stdout",
     "output_type": "stream",
     "text": [
      "negative 0.0 0.01 0.99\n",
      "positive 0.97 0.03 0.0\n"
     ]
    }
   ],
   "source": [
    "for response in successful_responses:\n",
    "    print(response.sentiment, response.confidence_scores.positive, response.confidence_scores.neutral, response.confidence_scores.negative)"
   ]
  },
  {
   "cell_type": "code",
   "execution_count": 9,
   "id": "8b6ab60e-3dda-42b9-b65f-e4144f7f7c73",
   "metadata": {},
   "outputs": [
    {
     "name": "stdout",
     "output_type": "stream",
     "text": [
      "Entity 'Foo Company' has category 'Organization'\n",
      "Entity 'Contoso' has category 'Person'\n",
      "Entity 'annual' has category 'DateTime'\n",
      "Entity 'founding ceremony' has category 'Event'\n",
      "Entity 'food' has category 'Product'\n",
      "Entity 'Foo Company' has category 'Organization'\n",
      "Entity 'Contoso' has category 'Person'\n",
      "Entity 'food' has category 'Product'\n",
      "Entity 'Bar Company' has category 'Organization'\n",
      "Entity 'service' has category 'Skill'\n",
      "Entity 'Contoso' has category 'Person'\n",
      "Entity 'sliders' has category 'Product'\n"
     ]
    }
   ],
   "source": [
    "reviews = [\n",
    "    \"\"\"I work for Foo Company, and we hired Contoso for our annual founding ceremony. The food\n",
    "    was amazing and we all can't say enough good words about the quality and the level of service.\"\"\",\n",
    "    \"\"\"We at the Foo Company re-hired Contoso after all of our past successes with the company.\n",
    "    Though the food was still great, I feel there has been a quality drop since their last time\n",
    "    catering for us. Is anyone else running into the same problem?\"\"\",\n",
    "    \"\"\"Bar Company is over the moon about the service we received from Contoso, the best sliders ever!!!!\"\"\"\n",
    "]\n",
    "\n",
    "result = text_analytics_client.recognize_entities(reviews)\n",
    "result = [review for review in result if not review.is_error]\n",
    "organization_to_reviews = {}\n",
    "#typing.Dict[str, typing.List[str]] = {}\n",
    "\n",
    "for idx, review in enumerate(result):\n",
    "    for entity in review.entities:\n",
    "        print(f\"Entity '{entity.text}' has category '{entity.category}'\")\n",
    "        if entity.category == 'Organization':\n",
    "            organization_to_reviews.setdefault(entity.text, [])\n",
    "            organization_to_reviews[entity.text].append(reviews[idx])"
   ]
  }
 ],
 "metadata": {
  "kernelspec": {
   "display_name": "Python 3 (ipykernel)",
   "language": "python",
   "name": "python3"
  },
  "language_info": {
   "codemirror_mode": {
    "name": "ipython",
    "version": 3
   },
   "file_extension": ".py",
   "mimetype": "text/x-python",
   "name": "python",
   "nbconvert_exporter": "python",
   "pygments_lexer": "ipython3",
   "version": "3.8.18"
  }
 },
 "nbformat": 4,
 "nbformat_minor": 5
}
